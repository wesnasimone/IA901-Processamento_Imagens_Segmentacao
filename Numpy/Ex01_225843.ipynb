{
  "cells": [
    {
      "cell_type": "markdown",
      "metadata": {
        "id": "view-in-github",
        "colab_type": "text"
      },
      "source": [
        "<a href=\"https://colab.research.google.com/github/wesnasimone/IA901-Processamento_Imagens_Segmentacao/blob/main/Numpy/Ex01_225843.ipynb\" target=\"_parent\"><img src=\"https://colab.research.google.com/assets/colab-badge.svg\" alt=\"Open In Colab\"/></a>"
      ]
    },
    {
      "cell_type": "markdown",
      "source": [
        "###########################################\n",
        "\n",
        "          Nome: Wesna Simone Bulla de Araujo\n",
        "          RA: 225843\n",
        "          Curso: EA098/IA901\n",
        "\n",
        "##########################################"
      ],
      "metadata": {
        "id": "gbTvyQyxBBuT"
      }
    },
    {
      "cell_type": "markdown",
      "metadata": {
        "id": "YtINjzumUi4s"
      },
      "source": [
        "# Ex01 - Aprendendo Numpy\n"
      ]
    },
    {
      "cell_type": "markdown",
      "source": [
        "## Parte 1 - Exercitando o uso do Numpy"
      ],
      "metadata": {
        "id": "o-W-I1kiT-8G"
      }
    },
    {
      "cell_type": "markdown",
      "metadata": {
        "id": "HFhzTar2Ui4v"
      },
      "source": [
        "### Visualizando arrays em forma de imagem"
      ]
    },
    {
      "cell_type": "code",
      "execution_count": null,
      "metadata": {
        "id": "lyw-0E6yUi4v",
        "outputId": "6d1a02ae-d814-4504-8c3f-381b2043a12f",
        "colab": {
          "base_uri": "https://localhost:8080/"
        }
      },
      "outputs": [
        {
          "output_type": "stream",
          "name": "stdout",
          "text": [
            "Imagem constante:\n",
            " [[1. 1. 1. ... 1. 1. 1.]\n",
            " [1. 1. 1. ... 1. 1. 1.]\n",
            " [1. 1. 1. ... 1. 1. 1.]\n",
            " ...\n",
            " [1. 1. 1. ... 1. 1. 1.]\n",
            " [1. 1. 1. ... 1. 1. 1.]\n",
            " [1. 1. 1. ... 1. 1. 1.]]\n"
          ]
        }
      ],
      "source": [
        "import numpy as np\n",
        "\n",
        "f = np.ones((100,120))\n",
        "print(\"Imagem constante:\\n\",f)"
      ]
    },
    {
      "cell_type": "code",
      "execution_count": null,
      "metadata": {
        "id": "_c7eUOHlUi4x",
        "outputId": "4c03b628-a364-4eee-e2f3-bb83ebe7252e",
        "colab": {
          "base_uri": "https://localhost:8080/",
          "height": 299
        }
      },
      "outputs": [
        {
          "output_type": "execute_result",
          "data": {
            "text/plain": [
              "<matplotlib.colorbar.Colorbar at 0x7fe11c1084f0>"
            ]
          },
          "metadata": {},
          "execution_count": 4
        },
        {
          "output_type": "display_data",
          "data": {
            "text/plain": [
              "<Figure size 432x288 with 2 Axes>"
            ],
            "image/png": "[encoded data removed]"
          },
          "metadata": {
            "needs_background": "light"
          }
        }
      ],
      "source": [
        "%matplotlib inline\n",
        "import matplotlib.pyplot as plt\n",
        "\n",
        "plt.title('Constant image')\n",
        "plt.imshow(f,cmap='gray')\n",
        "plt.colorbar()"
      ]
    },
    {
      "cell_type": "markdown",
      "source": [
        "## Parte 2 - Manipulando arrays com Numpy\n",
        "\n"
      ],
      "metadata": {
        "id": "_vDIgFwYTXzP"
      }
    },
    {
      "cell_type": "markdown",
      "source": [
        "Nesta seção, serão abordados os métodos empregados nos tutoriais disponíveis no tutorial [\"Aprendendo Numpy\"](https://github.com/lrittner/Computacao-Visual/blob/master/tutoriais/02_Aprendendo_Numpy.ipynb)."
      ],
      "metadata": {
        "id": "OtRAq-XPTn07"
      }
    },
    {
      "cell_type": "markdown",
      "source": [
        "### Ex. 1.2.1"
      ],
      "metadata": {
        "id": "k_cZ4ps0Z3rT"
      }
    },
    {
      "cell_type": "markdown",
      "source": [
        "Efetue a criação de um np.array **a**, formado apenas por elementos \"1\", de tipo \"int16\", com 5 linhas e 3 colunas.\n",
        "\n",
        "**a)** Printe o array criado;"
      ],
      "metadata": {
        "id": "jKpq0f_3Ue83"
      }
    },
    {
      "cell_type": "code",
      "source": [
        "# Array de uns (5x3)\n",
        "\n",
        "a = np.ones( (5,3), dtype='int16' )\n",
        "print ('\\nArray a (5x3): \\n', a)"
      ],
      "metadata": {
        "id": "vJl90QuiVrVw",
        "colab": {
          "base_uri": "https://localhost:8080/"
        },
        "outputId": "e6ef859d-8dee-45a7-a2a7-b602025d21b6"
      },
      "execution_count": null,
      "outputs": [
        {
          "output_type": "stream",
          "name": "stdout",
          "text": [
            "\n",
            "Array a (5x3): \n",
            " [[1 1 1]\n",
            " [1 1 1]\n",
            " [1 1 1]\n",
            " [1 1 1]\n",
            " [1 1 1]]\n"
          ]
        }
      ]
    },
    {
      "cell_type": "markdown",
      "source": [
        "**b)** Crie um novo array **b** a partir do array **a**. Altere o elemento da 3ª linha e 2ª coluna do array **b** para zero (0), sem que o array **a** seja alterado. Comente a metodologia empregada e printe os arrays **a** e **b**;"
      ],
      "metadata": {
        "id": "w7KelNqGVr-F"
      }
    },
    {
      "cell_type": "code",
      "source": [
        "# cria o array b através de uma cópia profunda do array a, isto é, preserva o conteúdo de a\n",
        "# ao mesmo tempo que transfere todo o conteudo e formato de a para b\n",
        "\n",
        "b = a.copy()\n",
        "b[2,1]= 0       # seleciona a linha e coluna que se deseja atribuir o valor zero no novo array\n",
        "\n",
        "#Resultados do array 'a' e 'b'\n",
        "\n",
        "print('\\nArray a (5x3): \\n',a)\n",
        "print('\\nArray b (5x3) modificado: \\n',b)"
      ],
      "metadata": {
        "id": "eotdHqZFWG6n",
        "colab": {
          "base_uri": "https://localhost:8080/"
        },
        "outputId": "2c63c4ff-bb27-400c-bd66-1d43e7ce6bf0"
      },
      "execution_count": null,
      "outputs": [
        {
          "output_type": "stream",
          "name": "stdout",
          "text": [
            "\n",
            "Array a (5x3): \n",
            " [[1 1 1]\n",
            " [1 1 1]\n",
            " [1 1 1]\n",
            " [1 1 1]\n",
            " [1 1 1]]\n",
            "\n",
            "Array b (5x3) modificado: \n",
            " [[1 1 1]\n",
            " [1 1 1]\n",
            " [1 0 1]\n",
            " [1 1 1]\n",
            " [1 1 1]]\n"
          ]
        }
      ]
    },
    {
      "cell_type": "markdown",
      "source": [
        "**c)** Utilizando fatiamento, altere a 2ª coluna do array **b** para elementos iguais a 2, utilizando um array **c**.  Comente a metodologia empregada e printe os arrays **b** e **c**;"
      ],
      "metadata": {
        "id": "e_lO8LLNXFkt"
      }
    },
    {
      "cell_type": "code",
      "source": [
        "# O array c corresponde a uma fatia do o array b, isto é, c corresponde a segunda coluna do array b.\n",
        "# No entanto, o array c é modificado para que cada uma das linhas possua o valor 2\n",
        "# Dessa forma, o array b tem a sua segunda coluna modificada mas suas dimensões e o conteudo das outras colunas\n",
        "# serão preservados devido ao uso da cópia rasa.\n",
        "\n",
        "c = b[:5,1:2]\n",
        "c[:,:] = 2\n",
        "\n",
        "#Resultados\n",
        "print('\\nArray c (5x1): \\n', c)\n",
        "print('\\nArray b (5x3) modificado: \\n', b)"
      ],
      "metadata": {
        "id": "a3e-ElKkXc-p",
        "colab": {
          "base_uri": "https://localhost:8080/"
        },
        "outputId": "0865db0e-944f-4110-d6c2-243ec71ea389"
      },
      "execution_count": null,
      "outputs": [
        {
          "output_type": "stream",
          "name": "stdout",
          "text": [
            "\n",
            "Array c (5x1): \n",
            " [[2]\n",
            " [2]\n",
            " [2]\n",
            " [2]\n",
            " [2]]\n",
            "\n",
            "Array b (5x3) modificado: \n",
            " [[1 2 1]\n",
            " [1 2 1]\n",
            " [1 2 1]\n",
            " [1 2 1]\n",
            " [1 2 1]]\n"
          ]
        }
      ]
    },
    {
      "cell_type": "markdown",
      "source": [
        "### Ex. 1.2.2\n",
        "\n"
      ],
      "metadata": {
        "id": "B7A683XvZ-Dc"
      }
    },
    {
      "cell_type": "markdown",
      "source": [
        "Efetue a criação de um np.array **d**, formado por 21 elementos sequenciais, com valor inicial 0, valor final 100 e passo 5.\n",
        "\n",
        "**a)** Printe o array criado e comente a metodologia utilizada;"
      ],
      "metadata": {
        "id": "0suXWMvmaDiq"
      }
    },
    {
      "cell_type": "code",
      "source": [
        "# A função abaixo cria um array de 21 elementos de 0 a 100 com passo 5.\n",
        "# Note que como a função exclui o valor final é necessário colocar como parâmetro final 101 ao invés de 100,\n",
        "# para que o número 100 entre na contagem.\n",
        "\n",
        "d = np.arange(0,101,5)\n",
        "print('\\nArray com valores sequenciais de 0 a 100 com passo 5: \\n', d)"
      ],
      "metadata": {
        "id": "QI2HC8SUbRAm",
        "colab": {
          "base_uri": "https://localhost:8080/"
        },
        "outputId": "2eadadf8-b0b8-4232-dcd3-e9966e627e6e"
      },
      "execution_count": null,
      "outputs": [
        {
          "output_type": "stream",
          "name": "stdout",
          "text": [
            "\n",
            "Array com valores sequenciais de 0 a 100 com passo 5: \n",
            " [  0   5  10  15  20  25  30  35  40  45  50  55  60  65  70  75  80  85\n",
            "  90  95 100]\n"
          ]
        }
      ]
    },
    {
      "cell_type": "markdown",
      "source": [
        "**b)** Altere o array **d** para que este possua 7 linhas e 3 colunas. Printe o array resultante e comente a metodologia utilizada;"
      ],
      "metadata": {
        "id": "s59pBLm8bszk"
      }
    },
    {
      "cell_type": "code",
      "source": [
        "# Essa função transformou um array 1D em um array 2D\n",
        "\n",
        "d = d.reshape(7,3)\n",
        "\n",
        "print('\\nd = \\n', d)"
      ],
      "metadata": {
        "id": "KV4aP8eAbr4_",
        "colab": {
          "base_uri": "https://localhost:8080/"
        },
        "outputId": "e3a05961-8427-4757-ccb4-6438153e3fdf"
      },
      "execution_count": null,
      "outputs": [
        {
          "output_type": "stream",
          "name": "stdout",
          "text": [
            "\n",
            "d = \n",
            " [[  0   5  10]\n",
            " [ 15  20  25]\n",
            " [ 30  35  40]\n",
            " [ 45  50  55]\n",
            " [ 60  65  70]\n",
            " [ 75  80  85]\n",
            " [ 90  95 100]]\n"
          ]
        }
      ]
    },
    {
      "cell_type": "markdown",
      "source": [
        "**c)** Utilizando fatiamento, efetue a inversão dos elementos do array **d** (primeiro elemento vira o último, segundo elemento vira o penúltimo, ...) sem alterar o shape original do array. Printe o array resultante e comente a metodologia utilizada;"
      ],
      "metadata": {
        "id": "1uaiRjh5eUxZ"
      }
    },
    {
      "cell_type": "code",
      "source": [
        "# Ainda utilizando a cópia rasa foi definido o passo -1 tanto para a linha quanto para a coluna para ocorrer a inversão da matriz.\n",
        "\n",
        "d = d[::-1,::-1]\n",
        "print('\\nd_invertido = \\n', d)"
      ],
      "metadata": {
        "id": "m3Jo40jvekOk",
        "colab": {
          "base_uri": "https://localhost:8080/"
        },
        "outputId": "c7dc4bac-a06b-420f-f32d-103fceb802ca"
      },
      "execution_count": null,
      "outputs": [
        {
          "output_type": "stream",
          "name": "stdout",
          "text": [
            "\n",
            "d_invertido = \n",
            " [[100  95  90]\n",
            " [ 85  80  75]\n",
            " [ 70  65  60]\n",
            " [ 55  50  45]\n",
            " [ 40  35  30]\n",
            " [ 25  20  15]\n",
            " [ 10   5   0]]\n"
          ]
        }
      ]
    },
    {
      "cell_type": "markdown",
      "source": [
        "**d)** Utilizando fatiamento no array resultante no item anterior, printe apenas os elementos da 4ª à 5ª linhas e da 2ª à 3ª colunas.  Comente a metodologia utilizada."
      ],
      "metadata": {
        "id": "GMRsUlg-iKxm"
      }
    },
    {
      "cell_type": "code",
      "source": [
        "# Para o fatiamento foi necessário delimitar a linha começando de 3 até 5, pois como a quinta linha não entra na contagem tem-se o\n",
        "# primeiro fatiamento indo de 3-4. Lembrando que a contagem se inicia do zero, por isso 3 simboliza a quarta linha enquanto 4 a quinta linha\n",
        "# Em relação ao fatiamento das colunas delimitou-se a partir da segunda linha (1) até o final.\n",
        "\n",
        "print('O fatiamento resultante do array d invertido é: \\n', d[3:5,1:])"
      ],
      "metadata": {
        "id": "GLxbKKcaiJlB",
        "colab": {
          "base_uri": "https://localhost:8080/"
        },
        "outputId": "457c7109-c3f1-4f6b-c0c3-940f28290034"
      },
      "execution_count": null,
      "outputs": [
        {
          "output_type": "stream",
          "name": "stdout",
          "text": [
            "O fatiamento resultante do array d invertido é: \n",
            " [[50 45]\n",
            " [35 30]]\n"
          ]
        }
      ]
    },
    {
      "cell_type": "markdown",
      "source": [
        "### Ex. 1.2.3"
      ],
      "metadata": {
        "id": "WNAmIzl8lJnB"
      }
    },
    {
      "cell_type": "markdown",
      "source": [
        "Efetue a criação de um np.array **e**, formado por 35 elementos sequenciais, com:\n",
        "\n",
        "- valor inicial 0;\n",
        "- valor final 34;\n",
        "- passo 1;\n",
        "- shape (5,7).\n",
        "\n",
        "**a)** Printe o array criado, seu shape e comente a metodologia utilizada;"
      ],
      "metadata": {
        "id": "fvQjE07olNT3"
      }
    },
    {
      "cell_type": "code",
      "source": [
        "# Para a criação do array foi utilizado a função arange se inicializando em 0 e terminando em 35, visto que o último valor não entra na contagem\n",
        "# e para a transformação do array 1D em 2D foi utilizado a função reshape\n",
        "\n",
        "e = np.arange(0,35).reshape(5,7)\n",
        "\n",
        "print('e = \\n', e)\n",
        "print('\\nShape =', e.shape)"
      ],
      "metadata": {
        "id": "ULw_XlJrlccS",
        "colab": {
          "base_uri": "https://localhost:8080/"
        },
        "outputId": "a36919e6-b410-4dfe-c553-3ace5cbe5cf1"
      },
      "execution_count": null,
      "outputs": [
        {
          "output_type": "stream",
          "name": "stdout",
          "text": [
            "e = \n",
            " [[ 0  1  2  3  4  5  6]\n",
            " [ 7  8  9 10 11 12 13]\n",
            " [14 15 16 17 18 19 20]\n",
            " [21 22 23 24 25 26 27]\n",
            " [28 29 30 31 32 33 34]]\n",
            "\n",
            "Shape = (5, 7)\n"
          ]
        }
      ]
    },
    {
      "cell_type": "markdown",
      "source": [
        "**b)** Utilize um array booleano e indexação para printar apenas os elementos do array **e** que são maiores que 20. Comente a metodologia utilizada."
      ],
      "metadata": {
        "id": "3_dNSbW0lpJ8"
      }
    },
    {
      "cell_type": "code",
      "source": [
        "#Passo 1: criar o array booleano a partir do array e\n",
        "booleano = e > 20\n",
        "print('Array booleano: \\n', booleano)\n",
        "\n",
        "#Passo 2: Selecionar somente os valores que atendem a condição de True utilizando o array booleano como indexação\n",
        "print('\\nElementos maiores que 20: \\n', e[booleano])\n"
      ],
      "metadata": {
        "id": "AF-u7y9tmyaS",
        "colab": {
          "base_uri": "https://localhost:8080/"
        },
        "outputId": "53f04ff7-ba4d-4f18-e035-1cf87aca1077"
      },
      "execution_count": null,
      "outputs": [
        {
          "output_type": "stream",
          "name": "stdout",
          "text": [
            "Array booleano: \n",
            " [[False False False False False False False]\n",
            " [False False False False False False False]\n",
            " [False False False False False False False]\n",
            " [ True  True  True  True  True  True  True]\n",
            " [ True  True  True  True  True  True  True]]\n",
            "\n",
            "Elementos maiores que 20: \n",
            " [21 22 23 24 25 26 27 28 29 30 31 32 33 34]\n"
          ]
        }
      ]
    },
    {
      "cell_type": "markdown",
      "source": [
        "**c)** Utilize um array booleano e indexação para printar apenas as colunas do array **e** que possuem soma par. Comente a metodologia utilizada."
      ],
      "metadata": {
        "id": "ecPXEkB5oP9h"
      }
    },
    {
      "cell_type": "code",
      "source": [
        "# Passo 1: criar o array booleano a partir do array 'e' que defina como True apenas as colunas cuja soma seja par\n",
        "# para isso foi utilizado a função sum que soma todos os elementos da coluna (axis=0) e verifica se o resto da divisão por 2 é zero (número par)\n",
        "soma_par = (np.sum(e, axis=0) % 2) == 0\n",
        "\n",
        "# Passo 2: o array booleano irá indicar as colunas cuja soma é par. Assim, para printar somete essas colunas basta fatiar o array 'e' pegando todas as linhas e as colunas\n",
        "# definidas do array soma_par\n",
        "print('Colunas que possuem soma par do array e: \\n', e[::,soma_par])"
      ],
      "metadata": {
        "colab": {
          "base_uri": "https://localhost:8080/"
        },
        "id": "bHqkn7Qnw4HJ",
        "outputId": "eaa9db62-3392-4a08-f15f-8d6ec597ebaf"
      },
      "execution_count": null,
      "outputs": [
        {
          "output_type": "stream",
          "name": "stdout",
          "text": [
            "Colunas que possuem soma par do array e: \n",
            " [[ 0  2  4  6]\n",
            " [ 7  9 11 13]\n",
            " [14 16 18 20]\n",
            " [21 23 25 27]\n",
            " [28 30 32 34]]\n"
          ]
        }
      ]
    },
    {
      "cell_type": "markdown",
      "source": [
        "### Ex. 1.2.4\n",
        "\n"
      ],
      "metadata": {
        "id": "GxpElKJsxgNF"
      }
    },
    {
      "cell_type": "markdown",
      "source": [
        "Crie uma função que tenha como entradas:\n",
        "- Inteiro **m** que corresponde às linhas de uma matriz;\n",
        "- Inteiro **n** que corresponde às colunas de uma matriz;\n",
        "\n",
        "e que retorne:\n",
        "- Uma matriz **X** de shape (m, n), em que cada elemento X[i,j] seja a distância Euclidiana entre a posição [i,j] e a posição [0,0].\n",
        "\n",
        "Dica: criar novas matrizes com as funções np.meshgrid e np.arrange para realizar as operações e obter os valores que comporão a matriz X.\n",
        "\n",
        "Teste a função com os valores **m=5** e **n=4**."
      ],
      "metadata": {
        "id": "DwWkABHIxiIX"
      }
    },
    {
      "cell_type": "code",
      "source": [
        "def Matriz_X(m, n):\n",
        "\n",
        "  #cria matriz (mxn) com os valores de referencia\n",
        "  origem = np.zeros(m*n).reshape(m,n)\n",
        "\n",
        "  #cria duas matrizes: uma referente a posição dos elementos por linha (i) e a outra referente a posição dos elementos por coluna (j)\n",
        "  i,j = np.indices((m,n))\n",
        "\n",
        "  #calcula a distância euclidiana para cada posição\n",
        "  linha = (i - origem)**2\n",
        "  coluna = (j - origem)**2\n",
        "  soma = linha + coluna\n",
        "  X = np.sqrt(soma)\n",
        "\n",
        "  #Resultados\n",
        "  print('X = \\n', X)\n",
        "  print('\\nShape:', np.shape(X))\n",
        "\n",
        "#chama a função\n",
        "Matriz_X(5,4)"
      ],
      "metadata": {
        "id": "qX8f43wIy9iq",
        "colab": {
          "base_uri": "https://localhost:8080/"
        },
        "outputId": "95283929-6f65-4804-a18a-0de4f127ea41"
      },
      "execution_count": null,
      "outputs": [
        {
          "output_type": "stream",
          "name": "stdout",
          "text": [
            "X = \n",
            " [[0.         1.         2.         3.        ]\n",
            " [1.         1.41421356 2.23606798 3.16227766]\n",
            " [2.         2.23606798 2.82842712 3.60555128]\n",
            " [3.         3.16227766 3.60555128 4.24264069]\n",
            " [4.         4.12310563 4.47213595 5.        ]]\n",
            "\n",
            "Shape: (5, 4)\n"
          ]
        }
      ]
    },
    {
      "cell_type": "markdown",
      "metadata": {
        "id": "KB8fyJwRUi4y"
      },
      "source": [
        "## Parte 3 - Imagens sinteticas"
      ]
    },
    {
      "cell_type": "markdown",
      "source": [
        "Veja um exemplo de criação de uma imagem sintética com Numpy e como visualizá-la com o matplotlib.pyplot:\n"
      ],
      "metadata": {
        "id": "c_NCzACp1qkY"
      }
    },
    {
      "cell_type": "code",
      "source": [
        "# Criação de um quadrado cinza com dimensões 100 x 100\n",
        "from PIL import Image\n",
        "array = np.zeros([100, 100], dtype=np.uint8)\n",
        "array[:,:] = [100]\n",
        "plt.imshow(array,vmin=0, vmax=255, cmap='gray')"
      ],
      "metadata": {
        "colab": {
          "base_uri": "https://localhost:8080/",
          "height": 286
        },
        "id": "Ng_kDFFR1qEA",
        "outputId": "ded43180-3c9a-48b5-d836-fe88c90d088c"
      },
      "execution_count": null,
      "outputs": [
        {
          "output_type": "execute_result",
          "data": {
            "text/plain": [
              "<matplotlib.image.AxesImage at 0x7f92ac247910>"
            ]
          },
          "metadata": {},
          "execution_count": 4
        },
        {
          "output_type": "display_data",
          "data": {
            "text/plain": [
              "<Figure size 432x288 with 1 Axes>"
            ],
            "image/png": "[encoded data removed]"
          },
          "metadata": {
            "needs_background": "light"
          }
        }
      ]
    },
    {
      "cell_type": "markdown",
      "source": [
        "### Ex. 1.3.1"
      ],
      "metadata": {
        "id": "G74vgkCq2Fww"
      }
    },
    {
      "cell_type": "markdown",
      "source": [
        "**a)** Crie um retângulo de tamanho 100 x 200 que seja formado por dois quadrados, um cinza claro e um cinza escuro. Plote o resultado obtido e comente a metodologia utilizada."
      ],
      "metadata": {
        "id": "UtFMNrlk59IU"
      }
    },
    {
      "cell_type": "code",
      "source": [
        "# Foi criado um array de zeros de dimensão 100x200\n",
        "array = np.zeros([100, 200], dtype=np.uint8)\n",
        "\n",
        "# metade das colunas do array, isto é, todas as linhas e somente as colunas de zero a 100 recebem o valor 200 que na escala gray\n",
        "# representa um cinza claro. O mesmo raciocinio é empregado para a outra metade do retângulo que recebe o valor 50 que na escala gray\n",
        "# é um cinza mais escuro\n",
        "array[:,:101] = [200]\n",
        "array[:,100:] = [50]\n",
        "\n",
        "#Resultado\n",
        "plt.imshow(array,vmin=0, vmax=255, cmap='gray')"
      ],
      "metadata": {
        "id": "DXLxgPHp580i",
        "colab": {
          "base_uri": "https://localhost:8080/",
          "height": 236
        },
        "outputId": "81f2ecb0-9aaf-4d3b-921f-fcbbad96b722"
      },
      "execution_count": null,
      "outputs": [
        {
          "output_type": "execute_result",
          "data": {
            "text/plain": [
              "<matplotlib.image.AxesImage at 0x7fe104dac6a0>"
            ]
          },
          "metadata": {},
          "execution_count": 10
        },
        {
          "output_type": "display_data",
          "data": {
            "text/plain": [
              "<Figure size 432x288 with 1 Axes>"
            ],
            "image/png": "[encoded data removed]"
          },
          "metadata": {
            "needs_background": "light"
          }
        }
      ]
    },
    {
      "cell_type": "markdown",
      "source": [
        "**b)** Utilizando a imagem anterior (retângulo criado), efetue a inserção de um quadrado azul no meio do quadrado vermelho e de um quadrado vermelho no meio do quadrado azul. Plote o resultado obtido e comente a metodologia utilizada."
      ],
      "metadata": {
        "id": "w8M4gfD12gpi"
      }
    },
    {
      "cell_type": "code",
      "source": [
        "# Foi criado um array de zeros de dimensão 100x200\n",
        "array = np.zeros([100, 200], dtype=np.uint8)\n",
        "\n",
        "# Atribuição de valores em regiões especificas do array para a formação de quadrados. A cor veio do uso da escala seismic que representa um\n",
        "# Degradê entre vermelho e azul\n",
        "array[:,:101] = [200]          # tonalidade vermelha para o quadrado maior externo\n",
        "array[25:75,24:75] = [0]       # tonalidade azul para o quadrado interno\n",
        "array[:,101:] = [0]            # tonalidade azul para o quadrado maior externo a direita\n",
        "array[25:75,124:175] = [200]   # tonalidade vermelha para o quadrado interno a direita\n",
        "\n",
        "# Resultado\n",
        "plt.imshow(array,vmin=0, vmax=255, cmap='seismic')"
      ],
      "metadata": {
        "id": "W47Rdz6k20Rk",
        "colab": {
          "base_uri": "https://localhost:8080/",
          "height": 236
        },
        "outputId": "01d3a46a-50d9-4ede-c961-9ddb7e0594bf"
      },
      "execution_count": null,
      "outputs": [
        {
          "output_type": "execute_result",
          "data": {
            "text/plain": [
              "<matplotlib.image.AxesImage at 0x7fe104cfb520>"
            ]
          },
          "metadata": {},
          "execution_count": 12
        },
        {
          "output_type": "display_data",
          "data": {
            "text/plain": [
              "<Figure size 432x288 with 1 Axes>"
            ],
            "image/png": "[encoded data removed]"
          },
          "metadata": {
            "needs_background": "light"
          }
        }
      ]
    },
    {
      "cell_type": "markdown",
      "source": [
        "### Ex. 1.3.2"
      ],
      "metadata": {
        "id": "46syqzIg59gz"
      }
    },
    {
      "cell_type": "markdown",
      "metadata": {
        "collapsed": true,
        "id": "4CFqWZAaUi4z"
      },
      "source": [
        "Baseando-se nos tutoriais para [criação de imagens sintéticas](https://github.com/lrittner/Computacao-Visual/blob/bec40a68fa966e094c31227b098055f6c93dccc9/tutoriais/04_Gerando_imagens_sinteticas.ipynb) e [utilizando as funções meshgrid e indices](https://github.com/lrittner/Computacao-Visual/blob/bec40a68fa966e094c31227b098055f6c93dccc9/master/tutorial_numpy_1_7.ipynb), crie as seguintes imagens sintéticas, plotando o resultado e comentando os métodos utilizados.\n",
        "\n",
        "**a)** Tabuleiro de xadrez;\n"
      ]
    },
    {
      "cell_type": "code",
      "execution_count": null,
      "metadata": {
        "id": "g_INUD2FUi4z",
        "colab": {
          "base_uri": "https://localhost:8080/",
          "height": 324
        },
        "outputId": "83061b6b-e234-45b2-ee10-3a28dc5749c8"
      },
      "outputs": [
        {
          "output_type": "stream",
          "name": "stdout",
          "text": [
            "Tabuleiro Xadrez\n",
            "\n"
          ]
        },
        {
          "output_type": "execute_result",
          "data": {
            "text/plain": [
              "<matplotlib.image.AxesImage at 0x7f9282cfa4f0>"
            ]
          },
          "metadata": {},
          "execution_count": 44
        },
        {
          "output_type": "display_data",
          "data": {
            "text/plain": [
              "<Figure size 432x288 with 1 Axes>"
            ],
            "image/png": "[encoded data removed]"
          },
          "metadata": {
            "needs_background": "light"
          }
        }
      ],
      "source": [
        "# Cria um vetor de coordenadas 300x300\n",
        "linha,coluna = np.indices( (300, 300) )\n",
        "\n",
        "# cria um vetor de 0 ou 1 (resto da divisão) que na escala gray irá representar preto e branco. Note que a divisão das coordenadas\n",
        "# das linhas e colunas foi 37.5 para criar 64 quadrados como em um tabuleiro de xadrez\n",
        "tabuleiro = ((linha//37.5 + coluna//37.5) % 2)\n",
        "\n",
        "# Resultado\n",
        "print('Tabuleiro Xadrez\\n')\n",
        "plt.imshow(tabuleiro, cmap='gray')"
      ]
    },
    {
      "cell_type": "markdown",
      "source": [
        "**b)** função parabólica dada pela soma do quadrado de suas coordenadas;"
      ],
      "metadata": {
        "id": "R9YXSfIn69BT"
      }
    },
    {
      "cell_type": "code",
      "source": [
        "# Cria matriz parabolica\n",
        "parabola = linha**2 + coluna**2\n",
        "\n",
        "# Determina o maior valor da matriz e divide todos os elementos dela por esse valor para normaliza-la\n",
        "maior_valor = parabola.max()\n",
        "parabola_norm = parabola/maior_valor\n",
        "\n",
        "# Resultado\n",
        "plt.imshow(parabola_norm, cmap='gray')"
      ],
      "metadata": {
        "id": "LLIaMUvq7AFv",
        "colab": {
          "base_uri": "https://localhost:8080/",
          "height": 287
        },
        "outputId": "8262ef23-d85f-4639-9a3b-83946135e538"
      },
      "execution_count": null,
      "outputs": [
        {
          "output_type": "execute_result",
          "data": {
            "text/plain": [
              "<matplotlib.image.AxesImage at 0x7febb0358520>"
            ]
          },
          "metadata": {},
          "execution_count": 18
        },
        {
          "output_type": "display_data",
          "data": {
            "text/plain": [
              "<Figure size 432x288 with 1 Axes>"
            ],
            "image/png": "[encoded data removed]"
          },
          "metadata": {
            "needs_background": "light"
          }
        }
      ]
    },
    {
      "cell_type": "markdown",
      "source": [
        "**c)** círculo de raio 40, com centro em (0,0);"
      ],
      "metadata": {
        "id": "T3sM-6Vm6sBD"
      }
    },
    {
      "cell_type": "code",
      "source": [
        "# Cria um vetor de coordenadas 80x80 para aproximar mais o circulo\n",
        "linha,coluna = np.indices( (80,80) )\n",
        "\n",
        "# Define a expressão de uma circunferência com raio 40 centrada na origem\n",
        "circulo = (linha**2 + coluna**2 < 40**2)\n",
        "\n",
        "# Determina o maior valor da matriz e divide todos os elementos dela por esse valor para normaliza-la\n",
        "maior_valor = circulo.max()\n",
        "circulo_norm = circulo/maior_valor\n",
        "\n",
        "# Resultados\n",
        "plt.imshow(circulo_norm, cmap='gray')"
      ],
      "metadata": {
        "id": "gU3PvfW76WPF",
        "colab": {
          "base_uri": "https://localhost:8080/",
          "height": 286
        },
        "outputId": "a14bf2b5-8aed-484a-9113-98fb79f5b060"
      },
      "execution_count": null,
      "outputs": [
        {
          "output_type": "execute_result",
          "data": {
            "text/plain": [
              "<matplotlib.image.AxesImage at 0x7f9282bc3610>"
            ]
          },
          "metadata": {},
          "execution_count": 51
        },
        {
          "output_type": "display_data",
          "data": {
            "text/plain": [
              "<Figure size 432x288 with 1 Axes>"
            ],
            "image/png": "[encoded data removed]"
          },
          "metadata": {
            "needs_background": "light"
          }
        }
      ]
    },
    {
      "cell_type": "markdown",
      "source": [
        "## Parte 4 - Manipulando imagens com PIL e Numpy\n"
      ],
      "metadata": {
        "id": "yJDCwVDbnggD"
      }
    },
    {
      "cell_type": "markdown",
      "source": [
        "É possível carregar imagens utilizando **PIL.Image** e convertê-las para um **np.array**.\n",
        "\n",
        "Adicione a pasta **G_EA979A_2023S1** ao seu Google Drive para que seja capaz de abrir a imagem abaixo.\n",
        "\n",
        "Obs.: se encontrar dificuldades na utilização do Google Colaboratory, verifique a parte final deste NB \"Dicas: Utilizando o Colab\"."
      ],
      "metadata": {
        "id": "_vFdIne5nnea"
      }
    },
    {
      "cell_type": "code",
      "source": [
        "from google.colab import drive\n",
        "drive.mount('/content/gdrive')"
      ],
      "metadata": {
        "colab": {
          "base_uri": "https://localhost:8080/"
        },
        "id": "VlSQsh4cn426",
        "outputId": "f803a38d-864b-4dc2-b913-96c949ec6c26"
      },
      "execution_count": null,
      "outputs": [
        {
          "output_type": "stream",
          "name": "stdout",
          "text": [
            "Mounted at /content/gdrive\n"
          ]
        }
      ]
    },
    {
      "cell_type": "code",
      "source": [
        "path = \"gdrive/MyDrive/P_IA901A_2023S1/IA901A_Ex01/arco-iris-duplo.jpg\"\n",
        "from PIL import Image\n",
        "img = Image.open(path)"
      ],
      "metadata": {
        "id": "vjeJFtr4n72E"
      },
      "execution_count": null,
      "outputs": []
    },
    {
      "cell_type": "markdown",
      "source": [
        "### Ex. 1.4.1"
      ],
      "metadata": {
        "id": "9xYtSKP-oAFi"
      }
    },
    {
      "cell_type": "markdown",
      "source": [
        "Converta a imagem **img** para um [**np.array**](https://numpy.org/doc/stable/reference/generated/numpy.array.html), printe o número de dimensões da imagem, seu shape e seu dtype. Comente os métodos utilizados."
      ],
      "metadata": {
        "id": "gSNa5nd8oEXA"
      }
    },
    {
      "cell_type": "code",
      "source": [
        "# Transforma imagem em um array\n",
        "img_array = np.array(img)\n",
        "\n",
        "# Resultados\n",
        "print('dims: ', img_array.shape[2])\n",
        "print('img shape: ', np.shape(img_array))\n",
        "print('dtype: ', img_array.dtype)"
      ],
      "metadata": {
        "colab": {
          "base_uri": "https://localhost:8080/"
        },
        "id": "KYVpq4bvFmWV",
        "outputId": "e3d0f3b6-d6a7-4b0c-a468-369bffbf707c"
      },
      "execution_count": null,
      "outputs": [
        {
          "output_type": "stream",
          "name": "stdout",
          "text": [
            "dims:  3\n",
            "img shape:  (480, 640, 3)\n",
            "dtype:  uint8\n"
          ]
        }
      ]
    },
    {
      "cell_type": "markdown",
      "source": [
        "### Ex. 1.4.2"
      ],
      "metadata": {
        "id": "Lbt0s6jXoV3t"
      }
    },
    {
      "cell_type": "markdown",
      "source": [
        "Para se visualizar a imagem, pode-se utilizar o [**matplotlib.pyplot**](https://matplotlib.org/3.5.3/api/_as_gen/matplotlib.pyplot.html).\n",
        "\n",
        "Visualize a imagem anterior com um tamanho 2 x 2. Comente o seu código utilizando a documentação oficial."
      ],
      "metadata": {
        "id": "5A48Eku_oa4C"
      }
    },
    {
      "cell_type": "code",
      "source": [
        "# Altera o tamanho da vizualização para 2 x 2\n",
        "fig = plt.figure()\n",
        "fig.set_size_inches(2, 2)\n",
        "plt.imshow(img_array)"
      ],
      "metadata": {
        "colab": {
          "base_uri": "https://localhost:8080/",
          "height": 154
        },
        "id": "yg8ZX_MEIQS0",
        "outputId": "73c56246-78a2-4cba-96e2-5decc9823f74"
      },
      "execution_count": null,
      "outputs": [
        {
          "output_type": "execute_result",
          "data": {
            "text/plain": [
              "<matplotlib.image.AxesImage at 0x7f9282a57df0>"
            ]
          },
          "metadata": {},
          "execution_count": 59
        },
        {
          "output_type": "display_data",
          "data": {
            "text/plain": [
              "<Figure size 144x144 with 1 Axes>"
            ],
            "image/png": "[encoded data removed]"
          },
          "metadata": {
            "needs_background": "light"
          }
        }
      ]
    },
    {
      "cell_type": "markdown",
      "source": [
        "### Ex. 1.4.3"
      ],
      "metadata": {
        "id": "2qdeBsmTpPxu"
      }
    },
    {
      "cell_type": "markdown",
      "source": [
        "Selecione e visualize apenas uma região da imagem, usando o slicing do Numpy. Comente os métodos utilizados."
      ],
      "metadata": {
        "id": "QARxjMKmouK7"
      }
    },
    {
      "cell_type": "code",
      "source": [
        "# Plot de apenas uma parte da imagem\n",
        "plt.imshow(img_array[135:355,150:510])"
      ],
      "metadata": {
        "id": "IvKlJR19pZWP",
        "colab": {
          "base_uri": "https://localhost:8080/",
          "height": 274
        },
        "outputId": "6647081c-f933-464b-a7a5-7344c3988e45"
      },
      "execution_count": null,
      "outputs": [
        {
          "output_type": "execute_result",
          "data": {
            "text/plain": [
              "<matplotlib.image.AxesImage at 0x7f92819b7a90>"
            ]
          },
          "metadata": {},
          "execution_count": 60
        },
        {
          "output_type": "display_data",
          "data": {
            "text/plain": [
              "<Figure size 432x288 with 1 Axes>"
            ],
            "image/png": "[encoded data removed]"
          },
          "metadata": {
            "needs_background": "light"
          }
        }
      ]
    },
    {
      "cell_type": "markdown",
      "metadata": {
        "collapsed": true,
        "id": "gU9455qnUi4x"
      },
      "source": [
        "# Dicas: Utilizando o Colab\n",
        "\n",
        "O Google Colaboratory (Colab) permite a execução de Jupyter Notebooks na nuvem, através de navegadores, sem a necessidade de instalação do Jupyter na máquina. Nesta disciplina, os tutoriais e exercícios serão realizados na forma de Jupyter Notebooks através do Colab."
      ]
    },
    {
      "cell_type": "markdown",
      "source": [
        "## Conectividade do Colab\n",
        "\n",
        "O Colab informa que pode ficar conectado por até 12 horas. Porém, esse período varia de acordo com a utilização do Notebook e a iteratividade do código. Em alguns casos, após muito tempo de execução, a conta do Colab pode ficar limitada para utilização. Nestes casos, aconselha-se compartilhar o Notebook através do botão \"Compartilhar\" no canto superior direito, e executá-lo com outra conta do Google."
      ],
      "metadata": {
        "id": "LY4t5ltzZbE3"
      }
    },
    {
      "cell_type": "markdown",
      "metadata": {
        "id": "60WI3Xl1Ui4x"
      },
      "source": [
        "## Inserindo novas células\n",
        "\n",
        "O Colab permite a inserção de células de código ou texto. As células de código podem executar comandos em Python ou shell bash (comandos para terminal Linux). As células de texto permitem a inserção de dados em texto, links, tópicos e imagens.\n",
        "\n",
        "Para inserir uma nova célula, posicione o mouse entre duas células e clique no tipo da célula desejada (Código ou Texto):\n",
        "\n",
        "![imagem_2023-02-02_112708896.png](data:image/png;base64,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)\n",
        "\n",
        "Também é possível inserir novas células de código com os comandos \"Ctrl+M B\".\n",
        "\n",
        "As células podem ter sua ordem de execução alterada se forem pressionadas e \"arrastadas\". Além disso, a mudança de ordem pode ser efetuada pelas setas na figura a seguir, ou com os comandos \"Ctrl+M K\" (mover para cima) ou \"Ctrl+M J\" (Mover para baixo).\n",
        "\n",
        "![image.png](data:image/png;base64,iVBORw0KGgoAAAANSUhEUgAAADwAAAAqCAYAAADvczj0AAAABHNCSVQICAgIfAhkiAAAABl0RVh0U29mdHdhcmUAZ25vbWUtc2NyZWVuc2hvdO8Dvz4AAAAtdEVYdENyZWF0aW9uIFRpbWUAVGh1IDAyIEZlYiAyMDIzIDA0OjAxOjA4IFBNIC0wMx+tw6kAAAJMSURBVGiB7ZpPjoIwFId/rWgCGyWSuIKtZ2LrIeQOXIQrsRWWmmhETeRfZzEpAsMgMqjQ8UsaEyHlfbxa+oqEMcbwj6DvDuDVfIRF5yMsOlLVlyJP3AXhvKio0pkwF2SMZa18TAQkoChZ1fIMXV4qZzZNU1BKIUkSCCFvDq97KHCTTZIEhBBhZYGScBzHkKTKiVsYaH4oR1EkbGY5ND+coyh6dzxPJ1tp8Sw/yuVygW3b8Dyv08CqcF0Xq9UKruu27iP7Dec/m8JlXdd9mfRfoXXP3DrKmX1lpv9CYdJqKszlttstTNMEAJimCcZY76UfznBe1rIs6LoOANB1HZZl9V6apmkK3u4Jl2UNwygcNwyjM2nP87Ber+/20fQ8zsMZlmW5UpbDpXVdh6ZpjYKoQtM0yLJce+M8z4Nt2zifz437pXEcI9/qUBSlVpbDpRVFaRzIb9eaz+eV0lyWMdYoJg4NwxBhGCKKot4tPMrSvu8DAHzfbyULAFRVVaiqitlshul0+qzYW5OXdhwHAOA4TitZYCB7WlyaPxHuzSN1ZMJ9Lxq49HK5bC0LACRJEsYLhyAIsFgsOg61X1Dglt2+Z7kLfgzpNhXTkCgIU0pxPB7fGc/ToYQQ8DYajbDf77Hb7e4uQoYKSdOU8R2P6/WKIAhwOByw2WxwOp0eqqKGgATchvN4PIaiKCCEYDKZII7jh+vkvkPYN1lNnCRJtq7mVVSeocsT/peH/DZPWXToknkyYeB/vEwrCHNElQV+eT8s8oprENVSl3yERecL+CX+lbRL4o4AAAAASUVORK5CYII=)"
      ]
    },
    {
      "cell_type": "markdown",
      "source": [
        "## Executando células de código\n",
        "\n",
        "As células de código podem ser executadas clicando no ícone \"Play\", ao lado esquerdo da célula, ou através dos comandos \"Shift+Enter\" ou \"Ctrl+Enter\". Após a execução da célula, o índice de execução ficará entre os colchetes [ ].\n",
        "\n",
        "Também é possível:\n",
        "1.   Executar todas as células: Ambiente de Execução > Executar tudo (ou utilizando Ctrl+F9);\n",
        "2.   Executar todas as células após a célula em que está o cursor: Ambiente de Execução > Executar após (ou utilizando Ctrl+F10);\n",
        "3.   Executar todas as células antes da célula em que está o cursor: Ambiente de Execução > Executar antes (ou utilizando Ctrl+F8);\n",
        "\n",
        "No caso da execução correta, um ícone de ok estará ao lado esquerdo.\n",
        "\n",
        "No caso de erros, um ponto de exclamação aparecerá no lado esquerdo e o erro será detalhado abaixo da célula. A execução é interrompida com o erro."
      ],
      "metadata": {
        "id": "4yfq2NMkhYij"
      }
    },
    {
      "cell_type": "code",
      "source": [
        "print(\"Exemplo de execução\")"
      ],
      "metadata": {
        "id": "msTNHMqThysV"
      },
      "execution_count": null,
      "outputs": []
    },
    {
      "cell_type": "code",
      "source": [
        "print(f\"Exemplo de erro de execução (variável não declarada): {m}\")"
      ],
      "metadata": {
        "id": "9sGn1tBZhzWi"
      },
      "execution_count": null,
      "outputs": []
    },
    {
      "cell_type": "markdown",
      "source": [
        "Para execução de comandos shell bash, utiliza-se o sinal \"!\" antes do código.\n",
        "\n",
        "Abaixo, seguem exemplos para:\n",
        "\n",
        "1.   Listar os arquivos do diretório atual\n",
        "2.   Printar o caminho do diretório atual\n",
        "3. Printar as configurações da GPU utilizada (é necessário estar com GPU habilitada: Ambiente de Execução > Alterar o tipo do ambiente de execução > Acelerador de Hardware)."
      ],
      "metadata": {
        "id": "-G11ytwzbMID"
      }
    },
    {
      "cell_type": "code",
      "source": [
        "!ls"
      ],
      "metadata": {
        "id": "kv80kU7Xbvpl"
      },
      "execution_count": null,
      "outputs": []
    },
    {
      "cell_type": "code",
      "source": [
        "!pwd"
      ],
      "metadata": {
        "id": "-Z0__P2nbwn9"
      },
      "execution_count": null,
      "outputs": []
    },
    {
      "cell_type": "code",
      "source": [
        "!nvidia-smi\n"
      ],
      "metadata": {
        "id": "zpf0BnBsb3Dz"
      },
      "execution_count": null,
      "outputs": []
    },
    {
      "cell_type": "markdown",
      "source": [
        "## Utilizando Colab com o Google Drive\n",
        "\n",
        "O Colab permite o vínculo de uma conta no Google Drive para carregar ou salvar arquivos. É necessário importar o pacote drive do colab e montá-lo, como segue. Na primeira execução após a conexão do notebook, será necessário realizar a autenticação na conta e permitir a conexão do colab com o drive.\n",
        "\n",
        "Por padrão, os notebooks gerados pelo colab são salvos na pasta 'Colab Notebooks', no Drive. Porém, é possível alterar o local onde o notebook será salvo.\n",
        "\n",
        "É possível verificar os arquivos na pasta de trabalho utilizando o comando shell bash \"ls\". Também é possível alterar a pasta de trabalho atual com o comando \"cd\". Exercite a execução destes comandos utilizando seu Google Drive."
      ],
      "metadata": {
        "id": "xcEtElqnatCq"
      }
    },
    {
      "cell_type": "code",
      "source": [
        "from google.colab import drive\n",
        "drive.mount('/content/gdrive')"
      ],
      "metadata": {
        "id": "VVMjB3wshY5L"
      },
      "execution_count": null,
      "outputs": []
    },
    {
      "cell_type": "markdown",
      "source": [
        "## Utilizando arquivos compartilhados\n",
        "\n",
        "O Colab permite apenas que sejam utilizados arquivos do Drive da própria conta, ou de drives compartilhados. Para se utilizar arquivos ou pastas compartilhados, pode-se adicionar um atalho à própria conta do Drive.\n",
        "\n",
        "Adicione um atalho ao seu Google Drive da pasta compartilhada \"G_EA979A_2023S1\". Liste os arquivos que estão contidos na pasta \"EA979A_Ex01\" utilizando a função **os.listdir**."
      ],
      "metadata": {
        "id": "7LPGJJI9gxlo"
      }
    },
    {
      "cell_type": "code",
      "source": [
        "import os\n",
        "list_files = os.listdir(\"gdrive/MyDrive/G_EA979A_2023S1/EA979A_Ex01\")\n",
        "for file in list_files:\n",
        "  print(file)\n",
        ""
      ],
      "metadata": {
        "id": "GQ2B8nKpMY8c"
      },
      "execution_count": null,
      "outputs": []
    },
    {
      "cell_type": "markdown",
      "source": [
        "### Salvando arquivos no Drive"
      ],
      "metadata": {
        "id": "dcIlGzopQlAy"
      }
    },
    {
      "cell_type": "markdown",
      "source": [
        "Um arquivo, como uma imagem PIL.Image, pode ser salvo com o método save. No entanto, o path deve existir.\n",
        "\n",
        "OBS: um path pode ser criado via shell bash com **!mkdir -p path**.\n",
        "O -p promove a criação de subdiretórios que ainda não existem."
      ],
      "metadata": {
        "id": "oNEB9mfb46iw"
      }
    },
    {
      "cell_type": "code",
      "source": [
        "!mkdir -p gdrive/MyDrive/'Colab Notebooks'/G_EA979A_2023S1/EA979A_Ex01\n",
        "path = \"gdrive/MyDrive/Colab Notebooks/G_EA979A_2023S1/EA979A_Ex01/Ex1_arco_iris.png\"\n",
        "pil_img = Image.fromarray(np.array(Image.open(path)))\n",
        "pil_img.save(path)"
      ],
      "metadata": {
        "id": "guJ6V5yNQxwe"
      },
      "execution_count": null,
      "outputs": []
    },
    {
      "cell_type": "markdown",
      "source": [
        "## Snipets de código\n",
        "\n",
        "O Colab fornece vários códigos prontos em Ajuda > Pesquisar snipets de código. Os snipets também são acessíveis através dos comandos Ctrl+Alt+P.\n"
      ],
      "metadata": {
        "id": "mmVLAS3A8XZu"
      }
    }
  ],
  "metadata": {
    "kernelspec": {
      "display_name": "Python 3",
      "language": "python",
      "name": "python3"
    },
    "language_info": {
      "codemirror_mode": {
        "name": "ipython",
        "version": 3
      },
      "file_extension": ".py",
      "mimetype": "text/x-python",
      "name": "python",
      "nbconvert_exporter": "python",
      "pygments_lexer": "ipython3",
      "version": "3.6.1"
    },
    "colab": {
      "provenance": [],
      "include_colab_link": true
    }
  },
  "nbformat": 4,
  "nbformat_minor": 0
}